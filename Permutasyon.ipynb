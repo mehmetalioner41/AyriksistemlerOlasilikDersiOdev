{
  "nbformat": 4,
  "nbformat_minor": 0,
  "metadata": {
    "colab": {
      "name": "Permutasyon.ipynb",
      "provenance": [],
      "collapsed_sections": [],
      "authorship_tag": "ABX9TyNAJhLRfW3e6+gXmnqfBR7x",
      "include_colab_link": true
    },
    "kernelspec": {
      "name": "python3",
      "display_name": "Python 3"
    }
  },
  "cells": [
    {
      "cell_type": "markdown",
      "metadata": {
        "id": "view-in-github",
        "colab_type": "text"
      },
      "source": [
        "<a href=\"https://colab.research.google.com/github/mehmetalioner41/AyriksistemlerOlasilikDersiOdev/blob/master/Permutasyon.ipynb\" target=\"_parent\"><img src=\"https://colab.research.google.com/assets/colab-badge.svg\" alt=\"Open In Colab\"/></a>"
      ]
    },
    {
      "cell_type": "code",
      "metadata": {
        "id": "pSUDKld44Yzz",
        "colab_type": "code",
        "colab": {}
      },
      "source": [
        ""
      ],
      "execution_count": 0,
      "outputs": []
    },
    {
      "cell_type": "markdown",
      "metadata": {
        "id": "WptfJXnG4h2j",
        "colab_type": "text"
      },
      "source": [
        "Temel olarak, soldan sağa doğru her bir öğe için, kalan öğelerin tüm permütasyonları oluşturulur (ve her biri geçerli öğelerle eklenir). Bu, son noktaya ulaşılana kadar tek bir emir olana kadar tekrarlamalı olarak yapılabilir.\n",
        "\n",
        "Böylece [1,2,3,4] listesiyle 1 ile başlayan tüm permütasyonlar üretilir, sonra 2 ile başlayan tüm permütasyonlar, sonra 3 sonra 4 olur.\n",
        "\n",
        "Bu, dört öğeden oluşan bir listenin permütasyonlarını bulmaktan üç öğelik bir listeye kadar sorunu etkili bir şekilde azaltır. Önce 2, sonra 1 öğe listesine indirildikten sonra hepsi bulunur.\n",
        "3 renkli top kullanarak proses permütasyonlarını gösteren örnek:!!"
      ]
    },
    {
      "cell_type": "code",
      "metadata": {
        "id": "ZFbeK2zS_CTD",
        "colab_type": "code",
        "colab": {}
      },
      "source": [
        "def permute(xs, low=0):\n",
        "    if low + 1 >= len(xs):\n",
        "        yield xs\n",
        "    else:\n",
        "        for p in permute(xs, low + 1):\n",
        "            yield p        \n",
        "        for i in range(low + 1, len(xs)):        \n",
        "            xs[low], xs[i] = xs[i], xs[low]\n",
        "            for p in permute(xs, low + 1):\n",
        "                yield p        \n",
        "            xs[low], xs[i] = xs[i], xs[low]\n",
        "\n",
        "for p in permute([1, 2, 3, 4]):\n",
        "    print(p)"
      ],
      "execution_count": 0,
      "outputs": []
    }
  ]
}